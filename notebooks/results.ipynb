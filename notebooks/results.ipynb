{
 "cells": [
  {
   "metadata": {
    "ExecuteTime": {
     "end_time": "2025-02-27T13:01:04.349405Z",
     "start_time": "2025-02-27T13:01:04.340595Z"
    }
   },
   "cell_type": "code",
   "source": [
    "import seaborn as sns\n",
    "import matplotlib.pyplot as plt\n",
    "import pandas as pd"
   ],
   "id": "552398189d16997d",
   "outputs": [],
   "execution_count": 1
  },
  {
   "metadata": {
    "ExecuteTime": {
     "end_time": "2025-02-27T13:01:04.374373Z",
     "start_time": "2025-02-27T13:01:04.362446Z"
    }
   },
   "cell_type": "code",
   "source": [
    "sns.set(style=\"whitegrid\")\n",
    "sns.set_context(\"paper\")\n",
    "plt.rcParams.update({\n",
    "    \"text.usetex\": True,  # Use LaTeX for text rendering\n",
    "    \"font.family\": \"serif\",  # Use serif (Roman) font\n",
    "    \"font.serif\": [\"Computer Modern Roman\"],  # Use LaTeX's default Roman font\n",
    "    # \"font.size\": 16,  # Increase base font size\n",
    "    # \"axes.labelsize\": 18,  # Increase axis label font size\n",
    "    # \"xtick.labelsize\": 18,  # Increase x-tick label font size\n",
    "    # \"ytick.labelsize\": 18,  # Increase y-tick label font size\n",
    "})\n",
    "pt_to_inch = 345 / 72.27\n"
   ],
   "id": "19d520ee3265a18f",
   "outputs": [],
   "execution_count": 2
  },
  {
   "metadata": {
    "ExecuteTime": {
     "end_time": "2025-02-27T13:01:08.082055Z",
     "start_time": "2025-02-27T13:01:04.698496Z"
    }
   },
   "cell_type": "code",
   "source": [
    "data = {\n",
    "    'model': ['XGBoost', 'XGBoost', 'XGBoost', 'LightGBM', 'LightGBM', 'LightGBM', 'CatBoost', 'CatBoost', 'CatBoost'],\n",
    "    'Score': ['private-leaderboard', 'public-leaderboard', 'validation', 'private-leaderboard', 'public-leaderboard', 'validation', 'private-leaderboard', 'public-leaderboard', 'validation'],\n",
    "    'Value': [0.484, 0.455, 0.388, 0.483, 0.455, 0.382, 0.483, 0.456, 0.443]\n",
    "}\n",
    "\n",
    "df = pd.DataFrame(data)\n",
    "\n",
    "\n",
    "\n",
    "plt.figure(figsize=(pt_to_inch * 1.5, pt_to_inch / 1.0))\n",
    "\n",
    "ax = sns.barplot(x='model', y='Value', hue='Score', data=df, palette=\"Set1\", dodge=False)\n",
    "\n",
    "# for p in ax.patches:\n",
    "ax.annotate(\n",
    "    f'{ax.patches[0].get_height():.3f}',  \n",
    "    (ax.patches[0].get_x() + ax.patches[0].get_width() / 2., ax.patches[0].get_height() * 0.94),  \n",
    "    ha='center', \n",
    "    va='center',  \n",
    "    xytext=(0, 10),\n",
    "    textcoords='offset points'\n",
    ")\n",
    "\n",
    "ax.annotate(\n",
    "    f'{ax.patches[1].get_height():.3f}',  \n",
    "    (ax.patches[1].get_x() + ax.patches[1].get_width() / 2., ax.patches[1].get_height() * 0.94),  \n",
    "    ha='center', \n",
    "    va='center',  \n",
    "    xytext=(0, 10),\n",
    "    textcoords='offset points'\n",
    ")\n",
    "\n",
    "ax.annotate(\n",
    "    f'{ax.patches[2].get_height():.3f}',  \n",
    "    (ax.patches[2].get_x() + ax.patches[2].get_width() / 2., ax.patches[2].get_height() * 0.94),  \n",
    "    ha='center', \n",
    "    va='center',  \n",
    "    xytext=(0, 10),\n",
    "    textcoords='offset points'\n",
    ")\n",
    "\n",
    "ax.annotate(\n",
    "    f'{ax.patches[3].get_height():.3f}',  \n",
    "    (ax.patches[3].get_x() + ax.patches[3].get_width() / 2., ax.patches[3].get_height() * 0.91),  \n",
    "    ha='center', \n",
    "    va='center',  \n",
    "    xytext=(0, 10),\n",
    "    textcoords='offset points'\n",
    ")\n",
    "\n",
    "ax.annotate(\n",
    "    f'{ax.patches[4].get_height():.3f}',  \n",
    "    (ax.patches[4].get_x() + ax.patches[4].get_width() / 2., ax.patches[4].get_height() * 0.91),  \n",
    "    ha='center', \n",
    "    va='center',  \n",
    "    xytext=(0, 10),\n",
    "    textcoords='offset points'\n",
    ")\n",
    "\n",
    "ax.annotate(\n",
    "    f'{ax.patches[5].get_height():.3f}',  \n",
    "    (ax.patches[5].get_x() + ax.patches[5].get_width() / 2., ax.patches[5].get_height() * 0.945),  \n",
    "    ha='center', \n",
    "    va='center',  \n",
    "    xytext=(0, 10),\n",
    "    textcoords='offset points'\n",
    ")\n",
    "\n",
    "ax.annotate(\n",
    "    f'{ax.patches[6].get_height():.3f}',  \n",
    "    (ax.patches[6].get_x() + ax.patches[6].get_width() / 2., ax.patches[6].get_height() * 0.92),  \n",
    "    ha='center', \n",
    "    va='center',  \n",
    "    xytext=(0, 10),\n",
    "    textcoords='offset points'\n",
    ")\n",
    "\n",
    "ax.annotate(\n",
    "    f'{ax.patches[7].get_height():.3f}',  \n",
    "    (ax.patches[7].get_x() + ax.patches[7].get_width() / 2., ax.patches[7].get_height() * 0.92),  \n",
    "    ha='center', \n",
    "    va='center',  \n",
    "    xytext=(0, 10),\n",
    "    textcoords='offset points'\n",
    ")\n",
    "\n",
    "ax.annotate(\n",
    "    f'{ax.patches[8].get_height():.3f}',  \n",
    "    (ax.patches[8].get_x() + ax.patches[8].get_width() / 2., ax.patches[8].get_height() * 0.92),  \n",
    "    ha='center', \n",
    "    va='center',  \n",
    "    xytext=(0, 10),\n",
    "    textcoords='offset points'\n",
    ")\n",
    "\n",
    "plt.xlabel('Model')\n",
    "plt.ylabel('Kappa Score')\n",
    "\n",
    "plt.tight_layout()\n",
    "plt.savefig('../media/results.pdf', format='pdf', bbox_inches='tight')\n",
    "plt.show()"
   ],
   "id": "e208e26abea6b222",
   "outputs": [
    {
     "data": {
      "text/plain": [
       "<Figure size 716.065x477.377 with 1 Axes>"
      ],
      "image/png": "[encoded data removed]"
     },
     "metadata": {},
     "output_type": "display_data"
    }
   ],
   "execution_count": 3
  },
  {
   "metadata": {
    "ExecuteTime": {
     "end_time": "2025-02-27T13:01:08.113605Z",
     "start_time": "2025-02-27T13:01:08.107103Z"
    }
   },
   "cell_type": "code",
   "source": "",
   "id": "9e178a74624f3bb5",
   "outputs": [],
   "execution_count": null
  }
 ],
 "metadata": {
  "kernelspec": {
   "display_name": "Python 3",
   "language": "python",
   "name": "python3"
  },
  "language_info": {
   "codemirror_mode": {
    "name": "ipython",
    "version": 2
   },
   "file_extension": ".py",
   "mimetype": "text/x-python",
   "name": "python",
   "nbconvert_exporter": "python",
   "pygments_lexer": "ipython2",
   "version": "2.7.6"
  }
 },
 "nbformat": 4,
 "nbformat_minor": 5
}
