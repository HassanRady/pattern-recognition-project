{
 "cells": [
  {
   "cell_type": "code",
   "id": "initial_id",
   "metadata": {
    "collapsed": true,
    "ExecuteTime": {
     "end_time": "2025-02-28T16:11:11.538064Z",
     "start_time": "2025-02-28T16:11:03.707022Z"
    }
   },
   "source": [
    "import numpy as np\n",
    "\n",
    "from src.data.data_manager import read_csv"
   ],
   "outputs": [],
   "execution_count": 1
  },
  {
   "metadata": {
    "ExecuteTime": {
     "end_time": "2025-02-28T16:11:11.627417Z",
     "start_time": "2025-02-28T16:11:11.548718Z"
    }
   },
   "cell_type": "code",
   "source": [
    "xgb_preds = read_csv(\"/mnt/MAIN/Master/WS-24-25/Pattern-Recognition-Project/pattern-recognition-project/results/pipe_classifier/artifacts/predictions/xgb_classifier/submission.csv\")\n",
    "lgb_preds = read_csv(\"/mnt/MAIN/Master/WS-24-25/Pattern-Recognition-Project/pattern-recognition-project/results/pipe_classifier_without_lasso_imputer/artifacts/predictions/lightgbm_classifier/submission.csv\")\n",
    "cat_preds = read_csv(\"/mnt/MAIN/Master/WS-24-25/Pattern-Recognition-Project/pattern-recognition-project/results/pipe_classifier_without_lasso_imputer/artifacts/predictions/catboost_classifier/submission.csv\")\n",
    "extra_trees_preds = read_csv(\"/mnt/MAIN/Master/WS-24-25/Pattern-Recognition-Project/pattern-recognition-project/results/pipe_classifier_without_lasso_imputer/artifacts/predictions/extra_trees_classifier/submission.csv\")"
   ],
   "id": "9c881be5f6907714",
   "outputs": [
    {
     "name": "stdout",
     "output_type": "stream",
     "text": [
      "2025-02-28 17:11:11,550|INFO|read_csv|29: Reading csv from /mnt/MAIN/Master/WS-24-25/Pattern-Recognition-Project/pattern-recognition-project/results/pipe_classifier/artifacts/predictions/xgb_classifier/submission.csv\n",
      "2025-02-28 17:11:11,618|INFO|read_csv|29: Reading csv from /mnt/MAIN/Master/WS-24-25/Pattern-Recognition-Project/pattern-recognition-project/results/pipe_classifier_without_lasso_imputer/artifacts/predictions/lightgbm_classifier/submission.csv\n",
      "2025-02-28 17:11:11,621|INFO|read_csv|29: Reading csv from /mnt/MAIN/Master/WS-24-25/Pattern-Recognition-Project/pattern-recognition-project/results/pipe_classifier_without_lasso_imputer/artifacts/predictions/catboost_classifier/submission.csv\n",
      "2025-02-28 17:11:11,623|INFO|read_csv|29: Reading csv from /mnt/MAIN/Master/WS-24-25/Pattern-Recognition-Project/pattern-recognition-project/results/pipe_classifier_without_lasso_imputer/artifacts/predictions/extra_trees_classifier/submission.csv\n"
     ]
    }
   ],
   "execution_count": 2
  },
  {
   "metadata": {
    "ExecuteTime": {
     "end_time": "2025-02-28T16:11:11.892310Z",
     "start_time": "2025-02-28T16:11:11.884816Z"
    }
   },
   "cell_type": "code",
   "source": [
    "for i, row in enumerate(xgb_preds.iterrows()):\n",
    "    print(f\"final_test[{i}] = {row[1][0]}\")"
   ],
   "id": "dff1c8172277264a",
   "outputs": [
    {
     "name": "stdout",
     "output_type": "stream",
     "text": [
      "final_test[0] = 0\n",
      "final_test[1] = 0\n",
      "final_test[2] = 1\n",
      "final_test[3] = 0\n",
      "final_test[4] = 1\n",
      "final_test[5] = 0\n",
      "final_test[6] = 0\n",
      "final_test[7] = 0\n",
      "final_test[8] = 1\n",
      "final_test[9] = 1\n",
      "final_test[10] = 1\n",
      "final_test[11] = 0\n",
      "final_test[12] = 1\n",
      "final_test[13] = 1\n",
      "final_test[14] = 2\n",
      "final_test[15] = 0\n",
      "final_test[16] = 0\n",
      "final_test[17] = 0\n",
      "final_test[18] = 0\n",
      "final_test[19] = 0\n"
     ]
    },
    {
     "name": "stderr",
     "output_type": "stream",
     "text": [
      "/tmp/ipykernel_9899/2878441722.py:2: FutureWarning: Series.__getitem__ treating keys as positions is deprecated. In a future version, integer keys will always be treated as labels (consistent with DataFrame behavior). To access a value by position, use `ser.iloc[pos]`\n",
      "  print(f\"final_test[{i}] = {row[1][0]}\")\n"
     ]
    }
   ],
   "execution_count": 3
  },
  {
   "metadata": {},
   "cell_type": "markdown",
   "source": "# Average",
   "id": "98334f3517da0878"
  },
  {
   "metadata": {
    "ExecuteTime": {
     "end_time": "2025-02-20T13:49:37.631483Z",
     "start_time": "2025-02-20T13:49:37.613069Z"
    }
   },
   "cell_type": "code",
   "source": [
    "preds = np.array([xgb_preds[\"sii\"], lgb_preds[\"sii\"], cat_preds[\"sii\"], extra_trees_preds[\"sii\"]])\n",
    "avg_preds = np.average(preds, axis=0)\n",
    "final_preds = np.round(avg_preds).astype(int)\n",
    "submission_df = xgb_preds.copy()\n",
    "submission_df[\"sii\"] = final_preds\n",
    "submission_df"
   ],
   "id": "cfc5c7d886bd795a",
   "outputs": [
    {
     "data": {
      "text/plain": [
       "          sii\n",
       "id           \n",
       "00008ff9    0\n",
       "000fd460    0\n",
       "00105258    0\n",
       "00115b9f    0\n",
       "0016bb22    0\n",
       "001f3379    0\n",
       "0038ba98    0\n",
       "0068a485    0\n",
       "0069fbed    1\n",
       "0083e397    0\n",
       "0087dd65    0\n",
       "00abe655    0\n",
       "00ae59c9    1\n",
       "00af6387    1\n",
       "00bd4359    1\n",
       "00c0cd71    1\n",
       "00d56d4b    0\n",
       "00d9913d    0\n",
       "00e6167c    0\n",
       "00ebc35d    1"
      ],
      "text/html": [
       "<div>\n",
       "<style scoped>\n",
       "    .dataframe tbody tr th:only-of-type {\n",
       "        vertical-align: middle;\n",
       "    }\n",
       "\n",
       "    .dataframe tbody tr th {\n",
       "        vertical-align: top;\n",
       "    }\n",
       "\n",
       "    .dataframe thead th {\n",
       "        text-align: right;\n",
       "    }\n",
       "</style>\n",
       "<table border=\"1\" class=\"dataframe\">\n",
       "  <thead>\n",
       "    <tr style=\"text-align: right;\">\n",
       "      <th></th>\n",
       "      <th>sii</th>\n",
       "    </tr>\n",
       "    <tr>\n",
       "      <th>id</th>\n",
       "      <th></th>\n",
       "    </tr>\n",
       "  </thead>\n",
       "  <tbody>\n",
       "    <tr>\n",
       "      <th>00008ff9</th>\n",
       "      <td>0</td>\n",
       "    </tr>\n",
       "    <tr>\n",
       "      <th>000fd460</th>\n",
       "      <td>0</td>\n",
       "    </tr>\n",
       "    <tr>\n",
       "      <th>00105258</th>\n",
       "      <td>0</td>\n",
       "    </tr>\n",
       "    <tr>\n",
       "      <th>00115b9f</th>\n",
       "      <td>0</td>\n",
       "    </tr>\n",
       "    <tr>\n",
       "      <th>0016bb22</th>\n",
       "      <td>0</td>\n",
       "    </tr>\n",
       "    <tr>\n",
       "      <th>001f3379</th>\n",
       "      <td>0</td>\n",
       "    </tr>\n",
       "    <tr>\n",
       "      <th>0038ba98</th>\n",
       "      <td>0</td>\n",
       "    </tr>\n",
       "    <tr>\n",
       "      <th>0068a485</th>\n",
       "      <td>0</td>\n",
       "    </tr>\n",
       "    <tr>\n",
       "      <th>0069fbed</th>\n",
       "      <td>1</td>\n",
       "    </tr>\n",
       "    <tr>\n",
       "      <th>0083e397</th>\n",
       "      <td>0</td>\n",
       "    </tr>\n",
       "    <tr>\n",
       "      <th>0087dd65</th>\n",
       "      <td>0</td>\n",
       "    </tr>\n",
       "    <tr>\n",
       "      <th>00abe655</th>\n",
       "      <td>0</td>\n",
       "    </tr>\n",
       "    <tr>\n",
       "      <th>00ae59c9</th>\n",
       "      <td>1</td>\n",
       "    </tr>\n",
       "    <tr>\n",
       "      <th>00af6387</th>\n",
       "      <td>1</td>\n",
       "    </tr>\n",
       "    <tr>\n",
       "      <th>00bd4359</th>\n",
       "      <td>1</td>\n",
       "    </tr>\n",
       "    <tr>\n",
       "      <th>00c0cd71</th>\n",
       "      <td>1</td>\n",
       "    </tr>\n",
       "    <tr>\n",
       "      <th>00d56d4b</th>\n",
       "      <td>0</td>\n",
       "    </tr>\n",
       "    <tr>\n",
       "      <th>00d9913d</th>\n",
       "      <td>0</td>\n",
       "    </tr>\n",
       "    <tr>\n",
       "      <th>00e6167c</th>\n",
       "      <td>0</td>\n",
       "    </tr>\n",
       "    <tr>\n",
       "      <th>00ebc35d</th>\n",
       "      <td>1</td>\n",
       "    </tr>\n",
       "  </tbody>\n",
       "</table>\n",
       "</div>"
      ]
     },
     "execution_count": 20,
     "metadata": {},
     "output_type": "execute_result"
    }
   ],
   "execution_count": 20
  },
  {
   "metadata": {
    "ExecuteTime": {
     "end_time": "2025-02-20T13:49:42.518738Z",
     "start_time": "2025-02-20T13:49:42.505301Z"
    }
   },
   "cell_type": "code",
   "source": [
    "for i, row in enumerate(submission_df.iterrows()):\n",
    "    print(f\"final_test[{i}] = {row[1][0]}\")"
   ],
   "id": "628ed1a210890d17",
   "outputs": [
    {
     "name": "stdout",
     "output_type": "stream",
     "text": [
      "final_test[0] = 0\n",
      "final_test[1] = 0\n",
      "final_test[2] = 0\n",
      "final_test[3] = 0\n",
      "final_test[4] = 0\n",
      "final_test[5] = 0\n",
      "final_test[6] = 0\n",
      "final_test[7] = 0\n",
      "final_test[8] = 1\n",
      "final_test[9] = 0\n",
      "final_test[10] = 0\n",
      "final_test[11] = 0\n",
      "final_test[12] = 1\n",
      "final_test[13] = 1\n",
      "final_test[14] = 1\n",
      "final_test[15] = 1\n",
      "final_test[16] = 0\n",
      "final_test[17] = 0\n",
      "final_test[18] = 0\n",
      "final_test[19] = 1\n"
     ]
    },
    {
     "name": "stderr",
     "output_type": "stream",
     "text": [
      "/tmp/ipykernel_46325/2957275637.py:2: FutureWarning: Series.__getitem__ treating keys as positions is deprecated. In a future version, integer keys will always be treated as labels (consistent with DataFrame behavior). To access a value by position, use `ser.iloc[pos]`\n",
      "  print(f\"final_test[{i}] = {row[1][0]}\")\n"
     ]
    }
   ],
   "execution_count": 21
  },
  {
   "metadata": {},
   "cell_type": "markdown",
   "source": "# Vote",
   "id": "c9dccd5e95d3d9d1"
  },
  {
   "metadata": {
    "ExecuteTime": {
     "end_time": "2025-02-20T13:57:43.636206Z",
     "start_time": "2025-02-20T13:57:36.621093Z"
    }
   },
   "cell_type": "code",
   "source": [
    "from scipy import stats\n",
    "\n",
    "preds = np.array([xgb_preds[\"sii\"], lgb_preds[\"sii\"], cat_preds[\"sii\"]])\n",
    "vote_preds = stats.mode(preds, axis=0).mode.flatten().astype(int)\n",
    "final_preds = np.round(vote_preds).astype(int)\n",
    "submission_df = xgb_preds.copy()\n",
    "submission_df[\"sii\"] = final_preds\n",
    "submission_df"
   ],
   "id": "27f3f77562244c35",
   "outputs": [
    {
     "data": {
      "text/plain": [
       "          sii\n",
       "id           \n",
       "00008ff9    0\n",
       "000fd460    0\n",
       "00105258    0\n",
       "00115b9f    0\n",
       "0016bb22    0\n",
       "001f3379    0\n",
       "0038ba98    0\n",
       "0068a485    0\n",
       "0069fbed    1\n",
       "0083e397    0\n",
       "0087dd65    0\n",
       "00abe655    0\n",
       "00ae59c9    1\n",
       "00af6387    1\n",
       "00bd4359    1\n",
       "00c0cd71    0\n",
       "00d56d4b    0\n",
       "00d9913d    0\n",
       "00e6167c    0\n",
       "00ebc35d    1"
      ],
      "text/html": [
       "<div>\n",
       "<style scoped>\n",
       "    .dataframe tbody tr th:only-of-type {\n",
       "        vertical-align: middle;\n",
       "    }\n",
       "\n",
       "    .dataframe tbody tr th {\n",
       "        vertical-align: top;\n",
       "    }\n",
       "\n",
       "    .dataframe thead th {\n",
       "        text-align: right;\n",
       "    }\n",
       "</style>\n",
       "<table border=\"1\" class=\"dataframe\">\n",
       "  <thead>\n",
       "    <tr style=\"text-align: right;\">\n",
       "      <th></th>\n",
       "      <th>sii</th>\n",
       "    </tr>\n",
       "    <tr>\n",
       "      <th>id</th>\n",
       "      <th></th>\n",
       "    </tr>\n",
       "  </thead>\n",
       "  <tbody>\n",
       "    <tr>\n",
       "      <th>00008ff9</th>\n",
       "      <td>0</td>\n",
       "    </tr>\n",
       "    <tr>\n",
       "      <th>000fd460</th>\n",
       "      <td>0</td>\n",
       "    </tr>\n",
       "    <tr>\n",
       "      <th>00105258</th>\n",
       "      <td>0</td>\n",
       "    </tr>\n",
       "    <tr>\n",
       "      <th>00115b9f</th>\n",
       "      <td>0</td>\n",
       "    </tr>\n",
       "    <tr>\n",
       "      <th>0016bb22</th>\n",
       "      <td>0</td>\n",
       "    </tr>\n",
       "    <tr>\n",
       "      <th>001f3379</th>\n",
       "      <td>0</td>\n",
       "    </tr>\n",
       "    <tr>\n",
       "      <th>0038ba98</th>\n",
       "      <td>0</td>\n",
       "    </tr>\n",
       "    <tr>\n",
       "      <th>0068a485</th>\n",
       "      <td>0</td>\n",
       "    </tr>\n",
       "    <tr>\n",
       "      <th>0069fbed</th>\n",
       "      <td>1</td>\n",
       "    </tr>\n",
       "    <tr>\n",
       "      <th>0083e397</th>\n",
       "      <td>0</td>\n",
       "    </tr>\n",
       "    <tr>\n",
       "      <th>0087dd65</th>\n",
       "      <td>0</td>\n",
       "    </tr>\n",
       "    <tr>\n",
       "      <th>00abe655</th>\n",
       "      <td>0</td>\n",
       "    </tr>\n",
       "    <tr>\n",
       "      <th>00ae59c9</th>\n",
       "      <td>1</td>\n",
       "    </tr>\n",
       "    <tr>\n",
       "      <th>00af6387</th>\n",
       "      <td>1</td>\n",
       "    </tr>\n",
       "    <tr>\n",
       "      <th>00bd4359</th>\n",
       "      <td>1</td>\n",
       "    </tr>\n",
       "    <tr>\n",
       "      <th>00c0cd71</th>\n",
       "      <td>0</td>\n",
       "    </tr>\n",
       "    <tr>\n",
       "      <th>00d56d4b</th>\n",
       "      <td>0</td>\n",
       "    </tr>\n",
       "    <tr>\n",
       "      <th>00d9913d</th>\n",
       "      <td>0</td>\n",
       "    </tr>\n",
       "    <tr>\n",
       "      <th>00e6167c</th>\n",
       "      <td>0</td>\n",
       "    </tr>\n",
       "    <tr>\n",
       "      <th>00ebc35d</th>\n",
       "      <td>1</td>\n",
       "    </tr>\n",
       "  </tbody>\n",
       "</table>\n",
       "</div>"
      ]
     },
     "execution_count": 22,
     "metadata": {},
     "output_type": "execute_result"
    }
   ],
   "execution_count": 22
  },
  {
   "metadata": {
    "ExecuteTime": {
     "end_time": "2025-02-20T13:57:43.740834Z",
     "start_time": "2025-02-20T13:57:43.730699Z"
    }
   },
   "cell_type": "code",
   "source": [
    "for i, row in enumerate(submission_df.iterrows()):\n",
    "    print(f\"final_test[{i}] = {row[1][0]}\")"
   ],
   "id": "41f19d174de5741a",
   "outputs": [
    {
     "name": "stdout",
     "output_type": "stream",
     "text": [
      "final_test[0] = 0\n",
      "final_test[1] = 0\n",
      "final_test[2] = 0\n",
      "final_test[3] = 0\n",
      "final_test[4] = 0\n",
      "final_test[5] = 0\n",
      "final_test[6] = 0\n",
      "final_test[7] = 0\n",
      "final_test[8] = 1\n",
      "final_test[9] = 0\n",
      "final_test[10] = 0\n",
      "final_test[11] = 0\n",
      "final_test[12] = 1\n",
      "final_test[13] = 1\n",
      "final_test[14] = 1\n",
      "final_test[15] = 0\n",
      "final_test[16] = 0\n",
      "final_test[17] = 0\n",
      "final_test[18] = 0\n",
      "final_test[19] = 1\n"
     ]
    },
    {
     "name": "stderr",
     "output_type": "stream",
     "text": [
      "/tmp/ipykernel_46325/2957275637.py:2: FutureWarning: Series.__getitem__ treating keys as positions is deprecated. In a future version, integer keys will always be treated as labels (consistent with DataFrame behavior). To access a value by position, use `ser.iloc[pos]`\n",
      "  print(f\"final_test[{i}] = {row[1][0]}\")\n"
     ]
    }
   ],
   "execution_count": 23
  },
  {
   "metadata": {},
   "cell_type": "code",
   "outputs": [],
   "execution_count": null,
   "source": "",
   "id": "28bf3c5bd7afdae2"
  },
  {
   "metadata": {
    "ExecuteTime": {
     "end_time": "2025-02-20T14:09:12.446614Z",
     "start_time": "2025-02-20T14:09:12.407077Z"
    }
   },
   "cell_type": "code",
   "source": [
    "import pandas as pd\n",
    "sub1 = xgb_preds.reset_index()\n",
    "sub2 = cat_preds.reset_index()\n",
    "sub3 = lgb_preds.reset_index()\n",
    "\n",
    "# sub1 = sub1.sort_values(by='id')\n",
    "# sub2 = sub2.sort_values(by='id')\n",
    "# sub3 = sub3.sort_values(by='id')\n",
    "\n",
    "combined = pd.DataFrame({\n",
    "    'id': sub1['id'],\n",
    "    'sii_1': sub1['sii'],\n",
    "    'sii_2': sub2['sii'],\n",
    "    'sii_3': sub3['sii']\n",
    "})\n",
    "\n",
    "def majority_vote(row):\n",
    "    return row.mode()[0]\n",
    "\n",
    "combined['final_sii'] = combined[['sii_1', 'sii_2', 'sii_3']].apply(majority_vote, axis=1)\n",
    "submission_df = combined[['id', 'final_sii']].rename(columns={'final_sii': 'sii'})\n",
    "submission_df['sii'] = submission_df['sii'].astype(int)\n",
    "for i, row in enumerate(submission_df.iterrows()):\n",
    "    print(f\"final_test[{i}] = {row[1][1]}\")\n"
   ],
   "id": "cc92a005ca584c60",
   "outputs": [
    {
     "name": "stdout",
     "output_type": "stream",
     "text": [
      "final_test[0] = 0\n",
      "final_test[1] = 0\n",
      "final_test[2] = 0\n",
      "final_test[3] = 0\n",
      "final_test[4] = 0\n",
      "final_test[5] = 0\n",
      "final_test[6] = 0\n",
      "final_test[7] = 0\n",
      "final_test[8] = 1\n",
      "final_test[9] = 0\n",
      "final_test[10] = 0\n",
      "final_test[11] = 0\n",
      "final_test[12] = 1\n",
      "final_test[13] = 1\n",
      "final_test[14] = 1\n",
      "final_test[15] = 0\n",
      "final_test[16] = 0\n",
      "final_test[17] = 0\n",
      "final_test[18] = 0\n",
      "final_test[19] = 1\n"
     ]
    },
    {
     "name": "stderr",
     "output_type": "stream",
     "text": [
      "/tmp/ipykernel_46325/3752224824.py:24: FutureWarning: Series.__getitem__ treating keys as positions is deprecated. In a future version, integer keys will always be treated as labels (consistent with DataFrame behavior). To access a value by position, use `ser.iloc[pos]`\n",
      "  print(f\"final_test[{i}] = {row[1][1]}\")\n"
     ]
    }
   ],
   "execution_count": 31
  }
 ],
 "metadata": {
  "kernelspec": {
   "display_name": "Python 3",
   "language": "python",
   "name": "python3"
  },
  "language_info": {
   "codemirror_mode": {
    "name": "ipython",
    "version": 2
   },
   "file_extension": ".py",
   "mimetype": "text/x-python",
   "name": "python",
   "nbconvert_exporter": "python",
   "pygments_lexer": "ipython2",
   "version": "2.7.6"
  }
 },
 "nbformat": 4,
 "nbformat_minor": 5
}
